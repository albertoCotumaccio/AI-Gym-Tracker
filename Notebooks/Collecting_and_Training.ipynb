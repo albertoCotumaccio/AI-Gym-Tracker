{
 "cells": [
  {
   "cell_type": "markdown",
   "metadata": {},
   "source": [
    "# 1. Import and Install Dependencies"
   ]
  },
  {
   "cell_type": "markdown",
   "metadata": {},
   "source": [
    "import matplotlib"
   ]
  },
  {
   "cell_type": "code",
   "execution_count": 1,
   "metadata": {},
   "outputs": [],
   "source": [
    "import sklearn"
   ]
  },
  {
   "cell_type": "code",
   "execution_count": 2,
   "metadata": {},
   "outputs": [],
   "source": [
    "import cv2\n",
    "import numpy as np\n",
    "import os\n",
    "from matplotlib import pyplot as plt\n",
    "import time\n",
    "import mediapipe as mp"
   ]
  },
  {
   "cell_type": "markdown",
   "metadata": {},
   "source": [
    "# 2. Keypoints using MP Holistic"
   ]
  },
  {
   "cell_type": "code",
   "execution_count": 3,
   "metadata": {},
   "outputs": [],
   "source": [
    "mp_holistic = mp.solutions.holistic # Holistic model for the people detection \n",
    "mp_drawing = mp.solutions.drawing_utils # Drawing utilities"
   ]
  },
  {
   "cell_type": "code",
   "execution_count": 4,
   "metadata": {},
   "outputs": [],
   "source": [
    "def mediapipe_detection(image, model):\n",
    "    image = cv2.cvtColor(image, cv2.COLOR_BGR2RGB) # COLOR CONVERSION BGR 2 RGB\n",
    "    image.flags.writeable = False                  # Image is no longer writeable\n",
    "    results = model.process(image)                 # Make prediction\n",
    "    image.flags.writeable = True                   # Image is now writeable \n",
    "    image = cv2.cvtColor(image, cv2.COLOR_RGB2BGR) # COLOR COVERSION RGB 2 BGR\n",
    "    return image, results"
   ]
  },
  {
   "cell_type": "markdown",
   "metadata": {},
   "source": [
    "### Function to draw all the landmarks"
   ]
  },
  {
   "cell_type": "code",
   "execution_count": 5,
   "metadata": {},
   "outputs": [],
   "source": [
    "def draw_landmarks(image, results):\n",
    "    mp_drawing.draw_landmarks(image, results.face_landmarks, mp_holistic.FACEMESH_TESSELATION) # Draw face connections\n",
    "    mp_drawing.draw_landmarks(image, results.pose_landmarks, mp_holistic.POSE_CONNECTIONS) # Draw pose connections\n",
    "    mp_drawing.draw_landmarks(image, results.left_hand_landmarks, mp_holistic.HAND_CONNECTIONS) # Draw left hand connections\n",
    "    mp_drawing.draw_landmarks(image, results.right_hand_landmarks, mp_holistic.HAND_CONNECTIONS) # Draw right hand connections"
   ]
  },
  {
   "cell_type": "markdown",
   "metadata": {},
   "source": [
    "### Application of the function already defined with the 4 different types of landmarks."
   ]
  },
  {
   "cell_type": "code",
   "execution_count": 6,
   "metadata": {},
   "outputs": [],
   "source": [
    "def draw_styled_landmarks(image, results):\n",
    "    # Draw face connections\n",
    "    \n",
    "    mp_drawing.draw_landmarks(image, results.face_landmarks, mp_holistic.FACEMESH_TESSELATION, \n",
    "                             mp_drawing.DrawingSpec(color=(80,110,10), thickness=1, circle_radius=1), \n",
    "                             mp_drawing.DrawingSpec(color=(80,256,121), thickness=1, circle_radius=1)\n",
    "                             ) \n",
    "    # Draw pose connections\n",
    "   \n",
    "    mp_drawing.draw_landmarks(image, results.pose_landmarks, mp_holistic.POSE_CONNECTIONS,\n",
    "                             mp_drawing.DrawingSpec(color=(80,22,10), thickness=2, circle_radius=4), \n",
    "                             mp_drawing.DrawingSpec(color=(80,44,121), thickness=2, circle_radius=2)\n",
    "                             ) \n",
    "    '''\n",
    "    # Draw left hand connections\n",
    "    mp_drawing.draw_landmarks(image, results.left_hand_landmarks, mp_holistic.HAND_CONNECTIONS, \n",
    "                             mp_drawing.DrawingSpec(color=(121,22,76), thickness=2, circle_radius=4), \n",
    "                             mp_drawing.DrawingSpec(color=(121,44,250), thickness=2, circle_radius=2)\n",
    "                             ) \n",
    "    # Draw right hand connections  \n",
    "    mp_drawing.draw_landmarks(image, results.right_hand_landmarks, mp_holistic.HAND_CONNECTIONS, \n",
    "                             mp_drawing.DrawingSpec(color=(245,117,66), thickness=2, circle_radius=4), \n",
    "                             mp_drawing.DrawingSpec(color=(245,66,230), thickness=2, circle_radius=2)\n",
    "                             ) '''"
   ]
  },
  {
   "cell_type": "code",
   "execution_count": null,
   "metadata": {},
   "outputs": [],
   "source": [
    "mp_holistic.PoseLandmarks??"
   ]
  },
  {
   "cell_type": "code",
   "execution_count": null,
   "metadata": {},
   "outputs": [],
   "source": [
    "mp_pose = mp.solutions.pose\n",
    "cap = cv2.VideoCapture(0)\n",
    "# Set mediapipe model \n",
    "with mp_holistic.Holistic(min_detection_confidence=0.5, min_tracking_confidence=0.5) as holistic:\n",
    "    while cap.isOpened():\n",
    "\n",
    "        # Read feed\n",
    "        ret, frame = cap.read()\n",
    "        try:\n",
    "            # Make detections\n",
    "            image, results = mediapipe_detection(frame, holistic)\n",
    "            landmarks = results.pose_landmarks.landmark\n",
    "            shoulder = [landmarks[mp_pose.PoseLandmark.LEFT_SHOULDER.value].x,landmarks[mp_pose.PoseLandmark.LEFT_SHOULDER.value].y]\n",
    "            elbow = [landmarks[mp_pose.PoseLandmark.LEFT_ELBOW.value].x,landmarks[mp_pose.PoseLandmark.LEFT_ELBOW.value].y ]\n",
    "            wrist = [landmarks[mp_pose.PoseLandmark.LEFT_WRIST.value].x,landmarks[mp_pose.PoseLandmark.LEFT_WRIST.value].y ]\n",
    "            print(shoulder,elbow,wrist)\n",
    "            # Draw landmarks\n",
    "            draw_styled_landmarks(image, results)\n",
    "\n",
    "            # Show to screen\n",
    "            cv2.imshow('OpenCV Feed', image)\n",
    "        except :\n",
    "            pass \n",
    "\n",
    "        # Break gracefully\n",
    "        if cv2.waitKey(10) & 0xFF == ord('q'):\n",
    "            break\n",
    "    cap.release()\n",
    "    cv2.destroyAllWindows()"
   ]
  },
  {
   "cell_type": "code",
   "execution_count": null,
   "metadata": {},
   "outputs": [],
   "source": [
    "results"
   ]
  },
  {
   "cell_type": "markdown",
   "metadata": {},
   "source": [
    "# 3. Extract Keypoint Values"
   ]
  },
  {
   "cell_type": "code",
   "execution_count": null,
   "metadata": {},
   "outputs": [],
   "source": [
    "pose = []\n",
    "for res in results.pose_landmarks.landmark:\n",
    "    test = np.array([res.x, res.y, res.z, res.visibility])\n",
    "    pose.append(test)"
   ]
  },
  {
   "cell_type": "code",
   "execution_count": null,
   "metadata": {},
   "outputs": [],
   "source": []
  },
  {
   "cell_type": "markdown",
   "metadata": {},
   "source": [
    "### result variable is all the points saved by  cv2 after the detection by mediapipe"
   ]
  },
  {
   "cell_type": "markdown",
   "metadata": {},
   "source": [
    "### Extract the key point and gives it a shape of a np array with 4 different variables each."
   ]
  },
  {
   "cell_type": "code",
   "execution_count": null,
   "metadata": {},
   "outputs": [],
   "source": [
    "def extract_keypoints(results):\n",
    "    pose = np.array([[res.x, res.y, res.z, res.visibility] for res in results.pose_landmarks.landmark]).flatten() if results.pose_landmarks else np.zeros(33*4)\n",
    "    #face = np.array([[res.x, res.y, res.z] for res in results.face_landmarks.landmark]).flatten() if results.face_landmarks else np.zeros(468*3)\n",
    "    #lh = np.array([[res.x, res.y, res.z] for res in results.left_hand_landmarks.landmark]).flatten() if results.left_hand_landmarks else np.zeros(21*3)\n",
    "    #rh = np.array([[res.x, res.y, res.z] for res in results.right_hand_landmarks.landmark]).flatten() if results.right_hand_landmarks else np.zeros(21*3)\n",
    "    return np.concatenate([pose]) #, face, lh, rh\n",
    "\n",
    "#possiamo semplicemnete togliere il concatenatee returnare pose"
   ]
  },
  {
   "cell_type": "code",
   "execution_count": null,
   "metadata": {},
   "outputs": [],
   "source": [
    "result_test = extract_keypoints(results)"
   ]
  },
  {
   "cell_type": "code",
   "execution_count": null,
   "metadata": {},
   "outputs": [],
   "source": [
    "result_test"
   ]
  },
  {
   "cell_type": "code",
   "execution_count": null,
   "metadata": {},
   "outputs": [],
   "source": [
    "np.save('0', result_test)"
   ]
  },
  {
   "cell_type": "code",
   "execution_count": null,
   "metadata": {},
   "outputs": [],
   "source": [
    "np.load('0.npy')"
   ]
  },
  {
   "cell_type": "markdown",
   "metadata": {},
   "source": [
    "# 4. Setup Folders for Collection"
   ]
  },
  {
   "cell_type": "code",
   "execution_count": 7,
   "metadata": {},
   "outputs": [],
   "source": [
    "# Path for exported data, numpy arrays\n",
    "DATA_PATH = os.path.join('MP_Data') \n",
    "\n",
    "# Actions that we try to detect\n",
    "actions = np.array(['curl', 'squat','flessioni','null'])\n",
    "\n",
    "# Thirty videos worth of data\n",
    "no_sequences = 30\n",
    "\n",
    "# Videos are going to be 30 frames in length ????\n",
    "sequence_length = 30"
   ]
  },
  {
   "cell_type": "code",
   "execution_count": null,
   "metadata": {},
   "outputs": [],
   "source": [
    "for action in actions: \n",
    "    for sequence in range(no_sequences):\n",
    "        try: \n",
    "            os.makedirs(os.path.join(DATA_PATH, action, str(sequence)))\n",
    "        except:\n",
    "            pass"
   ]
  },
  {
   "cell_type": "markdown",
   "metadata": {},
   "source": [
    "# 5. Collect Keypoint Values for Training and Testing"
   ]
  },
  {
   "cell_type": "code",
   "execution_count": null,
   "metadata": {},
   "outputs": [],
   "source": [
    "cap = cv2.VideoCapture(0)\n",
    "# Set mediapipe model \n",
    "with mp_holistic.Holistic(min_detection_confidence=0.5, min_tracking_confidence=0.5) as holistic:\n",
    "    \n",
    "    # NEW LOOP\n",
    "    # Loop through actions\n",
    "    for action in actions: # loop over actions that are three for now \n",
    "        # Loop through sequences aka videos\n",
    "        for sequence in range(no_sequences): ## loop over 30 videos per actions\n",
    "            # Loop through video length aka sequence length\n",
    "            for frame_num in range(sequence_length):\n",
    "            \n",
    "                # Read feed\n",
    "                ret, frame = cap.read() # create a single frame in which we capture frames\n",
    "                \n",
    "                # Make detections\n",
    "                image, results = mediapipe_detection(frame, holistic) # detection of mediapipe\n",
    "#                 print(results)\n",
    "\n",
    "                # Draw landmarks\n",
    "                draw_styled_landmarks(image, results) \n",
    "                \n",
    "                # NEW Apply wait logic\n",
    "                if frame_num == 0: # first frame of the video \n",
    "                    cv2.putText(image, 'STARTING COLLECTION', (120,200),  ## only text advisor  \n",
    "                               cv2.FONT_HERSHEY_SIMPLEX, 1, (0,255, 0), 4, cv2.LINE_AA)  \n",
    "                    ## only text advisor  \n",
    "                    cv2.putText(image, ' for {} n° {}'.format(action, sequence), (30,50), \n",
    "                               cv2.FONT_HERSHEY_SIMPLEX, 3, (0, 0, 255), 5, cv2.LINE_AA)\n",
    "                    # Show to screen\n",
    "                    cv2.imshow('OpenCV Feed', image)\n",
    "                    cv2.waitKey(5000)\n",
    "                else: \n",
    "                    cv2.putText(image, ' for {}  n° {}'.format(action, sequence), (30,50), \n",
    "                               cv2.FONT_HERSHEY_SIMPLEX, 3, (0, 0, 255), 5, cv2.LINE_AA)\n",
    "                    # Show to screen\n",
    "                    cv2.imshow('OpenCV Feed', image)\n",
    "                 \n",
    "                ## THE FUNCTION CORE STARTS FROM HERE : \n",
    "                # NEW Export keypoints\n",
    "                keypoints = extract_keypoints(results) # call extract keypoints so we have to modify this\n",
    "                npy_path = os.path.join(DATA_PATH, action, str(sequence), str(frame_num)) #join the path  \n",
    "                np.save(npy_path, keypoints) # save the points in the path specified before\n",
    "\n",
    "                # Break gracefully\n",
    "                if cv2.waitKey(10) & 0xFF == ord('q'):\n",
    "                    break\n",
    "                    \n",
    "    cap.release()\n",
    "    cv2.destroyAllWindows()"
   ]
  },
  {
   "cell_type": "code",
   "execution_count": null,
   "metadata": {},
   "outputs": [],
   "source": [
    "cap.release()\n",
    "cv2.destroyAllWindows()"
   ]
  },
  {
   "cell_type": "markdown",
   "metadata": {},
   "source": [
    "# 6. Preprocess Data and Create Labels and Features"
   ]
  },
  {
   "cell_type": "code",
   "execution_count": 8,
   "metadata": {},
   "outputs": [
    {
     "name": "stderr",
     "output_type": "stream",
     "text": [
      "2023-06-04 17:14:28.586503: I tensorflow/core/platform/cpu_feature_guard.cc:193] This TensorFlow binary is optimized with oneAPI Deep Neural Network Library (oneDNN) to use the following CPU instructions in performance-critical operations:  AVX2 FMA\n",
      "To enable them in other operations, rebuild TensorFlow with the appropriate compiler flags.\n"
     ]
    }
   ],
   "source": [
    "from sklearn.model_selection import train_test_split\n",
    "from tensorflow.keras.utils import to_categorical"
   ]
  },
  {
   "cell_type": "code",
   "execution_count": 9,
   "metadata": {},
   "outputs": [],
   "source": [
    "label_map = {label:num for num, label in enumerate(actions)}"
   ]
  },
  {
   "cell_type": "code",
   "execution_count": 10,
   "metadata": {},
   "outputs": [
    {
     "data": {
      "text/plain": [
       "{'curl': 0, 'squat': 1, 'flessioni': 2, 'null': 3}"
      ]
     },
     "execution_count": 10,
     "metadata": {},
     "output_type": "execute_result"
    }
   ],
   "source": [
    "label_map"
   ]
  },
  {
   "cell_type": "code",
   "execution_count": 11,
   "metadata": {},
   "outputs": [],
   "source": [
    "## necessario per creare la parte del dataset utile\n",
    "sequences, labels = [], []\n",
    "for action in actions:\n",
    "    for sequence in range(no_sequences):\n",
    "        window = []\n",
    "        for frame_num in range(sequence_length):\n",
    "            res = np.load(os.path.join(DATA_PATH, action, str(sequence), \"{}.npy\".format(frame_num)))\n",
    "            window.append(res)\n",
    "        sequences.append(window)\n",
    "        labels.append(label_map[action])"
   ]
  },
  {
   "cell_type": "code",
   "execution_count": 12,
   "metadata": {},
   "outputs": [
    {
     "data": {
      "text/plain": [
       "(120, 30, 132)"
      ]
     },
     "execution_count": 12,
     "metadata": {},
     "output_type": "execute_result"
    }
   ],
   "source": [
    "np.array(sequences).shape"
   ]
  },
  {
   "cell_type": "code",
   "execution_count": 12,
   "metadata": {},
   "outputs": [
    {
     "data": {
      "text/plain": [
       "(120,)"
      ]
     },
     "execution_count": 12,
     "metadata": {},
     "output_type": "execute_result"
    }
   ],
   "source": [
    "np.array(labels).shape"
   ]
  },
  {
   "cell_type": "code",
   "execution_count": 13,
   "metadata": {},
   "outputs": [],
   "source": [
    "X = np.array(sequences)"
   ]
  },
  {
   "cell_type": "code",
   "execution_count": 14,
   "metadata": {},
   "outputs": [
    {
     "data": {
      "text/plain": [
       "(120, 30, 132)"
      ]
     },
     "execution_count": 14,
     "metadata": {},
     "output_type": "execute_result"
    }
   ],
   "source": [
    "X.shape"
   ]
  },
  {
   "cell_type": "code",
   "execution_count": 14,
   "metadata": {},
   "outputs": [],
   "source": [
    "y = to_categorical(labels).astype(int)"
   ]
  },
  {
   "cell_type": "code",
   "execution_count": 16,
   "metadata": {},
   "outputs": [
    {
     "data": {
      "text/plain": [
       "array([[1, 0, 0, 0],\n",
       "       [1, 0, 0, 0],\n",
       "       [1, 0, 0, 0],\n",
       "       [1, 0, 0, 0],\n",
       "       [1, 0, 0, 0],\n",
       "       [1, 0, 0, 0],\n",
       "       [1, 0, 0, 0],\n",
       "       [1, 0, 0, 0],\n",
       "       [1, 0, 0, 0],\n",
       "       [1, 0, 0, 0],\n",
       "       [1, 0, 0, 0],\n",
       "       [1, 0, 0, 0],\n",
       "       [1, 0, 0, 0],\n",
       "       [1, 0, 0, 0],\n",
       "       [1, 0, 0, 0],\n",
       "       [1, 0, 0, 0],\n",
       "       [1, 0, 0, 0],\n",
       "       [1, 0, 0, 0],\n",
       "       [1, 0, 0, 0],\n",
       "       [1, 0, 0, 0],\n",
       "       [1, 0, 0, 0],\n",
       "       [1, 0, 0, 0],\n",
       "       [1, 0, 0, 0],\n",
       "       [1, 0, 0, 0],\n",
       "       [1, 0, 0, 0],\n",
       "       [1, 0, 0, 0],\n",
       "       [1, 0, 0, 0],\n",
       "       [1, 0, 0, 0],\n",
       "       [1, 0, 0, 0],\n",
       "       [1, 0, 0, 0],\n",
       "       [0, 1, 0, 0],\n",
       "       [0, 1, 0, 0],\n",
       "       [0, 1, 0, 0],\n",
       "       [0, 1, 0, 0],\n",
       "       [0, 1, 0, 0],\n",
       "       [0, 1, 0, 0],\n",
       "       [0, 1, 0, 0],\n",
       "       [0, 1, 0, 0],\n",
       "       [0, 1, 0, 0],\n",
       "       [0, 1, 0, 0],\n",
       "       [0, 1, 0, 0],\n",
       "       [0, 1, 0, 0],\n",
       "       [0, 1, 0, 0],\n",
       "       [0, 1, 0, 0],\n",
       "       [0, 1, 0, 0],\n",
       "       [0, 1, 0, 0],\n",
       "       [0, 1, 0, 0],\n",
       "       [0, 1, 0, 0],\n",
       "       [0, 1, 0, 0],\n",
       "       [0, 1, 0, 0],\n",
       "       [0, 1, 0, 0],\n",
       "       [0, 1, 0, 0],\n",
       "       [0, 1, 0, 0],\n",
       "       [0, 1, 0, 0],\n",
       "       [0, 1, 0, 0],\n",
       "       [0, 1, 0, 0],\n",
       "       [0, 1, 0, 0],\n",
       "       [0, 1, 0, 0],\n",
       "       [0, 1, 0, 0],\n",
       "       [0, 1, 0, 0],\n",
       "       [0, 0, 1, 0],\n",
       "       [0, 0, 1, 0],\n",
       "       [0, 0, 1, 0],\n",
       "       [0, 0, 1, 0],\n",
       "       [0, 0, 1, 0],\n",
       "       [0, 0, 1, 0],\n",
       "       [0, 0, 1, 0],\n",
       "       [0, 0, 1, 0],\n",
       "       [0, 0, 1, 0],\n",
       "       [0, 0, 1, 0],\n",
       "       [0, 0, 1, 0],\n",
       "       [0, 0, 1, 0],\n",
       "       [0, 0, 1, 0],\n",
       "       [0, 0, 1, 0],\n",
       "       [0, 0, 1, 0],\n",
       "       [0, 0, 1, 0],\n",
       "       [0, 0, 1, 0],\n",
       "       [0, 0, 1, 0],\n",
       "       [0, 0, 1, 0],\n",
       "       [0, 0, 1, 0],\n",
       "       [0, 0, 1, 0],\n",
       "       [0, 0, 1, 0],\n",
       "       [0, 0, 1, 0],\n",
       "       [0, 0, 1, 0],\n",
       "       [0, 0, 1, 0],\n",
       "       [0, 0, 1, 0],\n",
       "       [0, 0, 1, 0],\n",
       "       [0, 0, 1, 0],\n",
       "       [0, 0, 1, 0],\n",
       "       [0, 0, 1, 0],\n",
       "       [0, 0, 0, 1],\n",
       "       [0, 0, 0, 1],\n",
       "       [0, 0, 0, 1],\n",
       "       [0, 0, 0, 1],\n",
       "       [0, 0, 0, 1],\n",
       "       [0, 0, 0, 1],\n",
       "       [0, 0, 0, 1],\n",
       "       [0, 0, 0, 1],\n",
       "       [0, 0, 0, 1],\n",
       "       [0, 0, 0, 1],\n",
       "       [0, 0, 0, 1],\n",
       "       [0, 0, 0, 1],\n",
       "       [0, 0, 0, 1],\n",
       "       [0, 0, 0, 1],\n",
       "       [0, 0, 0, 1],\n",
       "       [0, 0, 0, 1],\n",
       "       [0, 0, 0, 1],\n",
       "       [0, 0, 0, 1],\n",
       "       [0, 0, 0, 1],\n",
       "       [0, 0, 0, 1],\n",
       "       [0, 0, 0, 1],\n",
       "       [0, 0, 0, 1],\n",
       "       [0, 0, 0, 1],\n",
       "       [0, 0, 0, 1],\n",
       "       [0, 0, 0, 1],\n",
       "       [0, 0, 0, 1],\n",
       "       [0, 0, 0, 1],\n",
       "       [0, 0, 0, 1],\n",
       "       [0, 0, 0, 1],\n",
       "       [0, 0, 0, 1]])"
      ]
     },
     "execution_count": 16,
     "metadata": {},
     "output_type": "execute_result"
    }
   ],
   "source": [
    "y"
   ]
  },
  {
   "cell_type": "code",
   "execution_count": 15,
   "metadata": {},
   "outputs": [],
   "source": [
    "#splitting test with train\n",
    "X_train, X_test, y_train, y_test = train_test_split(X, y, test_size=0.40)"
   ]
  },
  {
   "cell_type": "code",
   "execution_count": 18,
   "metadata": {},
   "outputs": [
    {
     "data": {
      "text/plain": [
       "(48, 4)"
      ]
     },
     "execution_count": 18,
     "metadata": {},
     "output_type": "execute_result"
    }
   ],
   "source": [
    "y_test.shape"
   ]
  },
  {
   "cell_type": "markdown",
   "metadata": {},
   "source": [
    "# 7. Build and Train LSTM Neural Network"
   ]
  },
  {
   "cell_type": "code",
   "execution_count": 16,
   "metadata": {},
   "outputs": [],
   "source": [
    "# Path for exported data, numpy arrays\n",
    "DATA_PATH = os.path.join('MP_Data') \n",
    "\n",
    "# Actions that we try to detect\n",
    "actions = np.array(['curl', 'squat','flessioni','null'])\n",
    "\n",
    "# Thirty videos worth of data\n",
    "no_sequences = 30\n",
    "\n",
    "# Videos are going to be 30 frames in length\n",
    "sequence_length = 30"
   ]
  },
  {
   "cell_type": "code",
   "execution_count": 17,
   "metadata": {},
   "outputs": [],
   "source": [
    "from tensorflow.keras.models import Sequential\n",
    "from tensorflow.keras.layers import LSTM, Dense\n",
    "from tensorflow.keras.callbacks import TensorBoard"
   ]
  },
  {
   "cell_type": "code",
   "execution_count": 18,
   "metadata": {},
   "outputs": [],
   "source": [
    "log_dir = os.path.join('Logs')\n",
    "tb_callback = TensorBoard(log_dir=log_dir)"
   ]
  },
  {
   "cell_type": "code",
   "execution_count": 19,
   "metadata": {},
   "outputs": [
    {
     "name": "stderr",
     "output_type": "stream",
     "text": [
      "2023-06-04 17:15:21.519487: I tensorflow/core/platform/cpu_feature_guard.cc:193] This TensorFlow binary is optimized with oneAPI Deep Neural Network Library (oneDNN) to use the following CPU instructions in performance-critical operations:  AVX2 FMA\n",
      "To enable them in other operations, rebuild TensorFlow with the appropriate compiler flags.\n"
     ]
    }
   ],
   "source": [
    "model = Sequential()\n",
    "model.add(LSTM(64, return_sequences=True, activation='relu', input_shape=(30,132)))\n",
    "model.add(LSTM(128, return_sequences=True, activation='relu'))\n",
    "model.add(LSTM(64, return_sequences=False, activation='relu'))\n",
    "model.add(Dense(64, activation='relu'))\n",
    "model.add(Dense(32, activation='relu'))\n",
    "model.add(Dense(actions.shape[0], activation='softmax'))"
   ]
  },
  {
   "cell_type": "code",
   "execution_count": 20,
   "metadata": {},
   "outputs": [],
   "source": [
    "res = [.7, 0.2, 0.1]                                                                                               "
   ]
  },
  {
   "cell_type": "code",
   "execution_count": 21,
   "metadata": {},
   "outputs": [
    {
     "data": {
      "text/plain": [
       "'curl'"
      ]
     },
     "execution_count": 21,
     "metadata": {},
     "output_type": "execute_result"
    }
   ],
   "source": [
    "actions[np.argmax(res)]"
   ]
  },
  {
   "cell_type": "code",
   "execution_count": 22,
   "metadata": {},
   "outputs": [],
   "source": [
    "model.compile(optimizer='Adam', loss='categorical_crossentropy', metrics=['categorical_accuracy'])"
   ]
  },
  {
   "cell_type": "code",
   "execution_count": 23,
   "metadata": {
    "scrolled": true
   },
   "outputs": [
    {
     "name": "stdout",
     "output_type": "stream",
     "text": [
      "Epoch 1/300\n",
      "3/3 [==============================] - 4s 58ms/step - loss: 1.3832 - categorical_accuracy: 0.3056\n",
      "Epoch 2/300\n",
      "3/3 [==============================] - 0s 45ms/step - loss: 1.3778 - categorical_accuracy: 0.3194\n",
      "Epoch 3/300\n",
      "3/3 [==============================] - 0s 40ms/step - loss: 1.3412 - categorical_accuracy: 0.3194\n",
      "Epoch 4/300\n",
      "3/3 [==============================] - 0s 42ms/step - loss: 1.3139 - categorical_accuracy: 0.3194\n",
      "Epoch 5/300\n",
      "3/3 [==============================] - 0s 42ms/step - loss: 1.1728 - categorical_accuracy: 0.5139\n",
      "Epoch 6/300\n",
      "3/3 [==============================] - 0s 39ms/step - loss: 0.8535 - categorical_accuracy: 0.6250\n",
      "Epoch 7/300\n",
      "3/3 [==============================] - 0s 40ms/step - loss: 0.9524 - categorical_accuracy: 0.5417\n",
      "Epoch 8/300\n",
      "3/3 [==============================] - 0s 41ms/step - loss: 0.8707 - categorical_accuracy: 0.6250\n",
      "Epoch 9/300\n",
      "3/3 [==============================] - 0s 39ms/step - loss: 0.8774 - categorical_accuracy: 0.5556\n",
      "Epoch 10/300\n",
      "3/3 [==============================] - 0s 40ms/step - loss: 0.7977 - categorical_accuracy: 0.5972\n",
      "Epoch 11/300\n",
      "3/3 [==============================] - 0s 40ms/step - loss: 0.7259 - categorical_accuracy: 0.6111\n",
      "Epoch 12/300\n",
      "3/3 [==============================] - 0s 41ms/step - loss: 1.9337 - categorical_accuracy: 0.5694\n",
      "Epoch 13/300\n",
      "3/3 [==============================] - 0s 47ms/step - loss: 0.9866 - categorical_accuracy: 0.4583\n",
      "Epoch 14/300\n",
      "3/3 [==============================] - 0s 44ms/step - loss: 1.0807 - categorical_accuracy: 0.4444\n",
      "Epoch 15/300\n",
      "3/3 [==============================] - 0s 41ms/step - loss: 1.0235 - categorical_accuracy: 0.4583\n",
      "Epoch 16/300\n",
      "3/3 [==============================] - 0s 39ms/step - loss: 0.9370 - categorical_accuracy: 0.4861\n",
      "Epoch 17/300\n",
      "3/3 [==============================] - 0s 38ms/step - loss: 0.9568 - categorical_accuracy: 0.5278\n",
      "Epoch 18/300\n",
      "3/3 [==============================] - 0s 43ms/step - loss: 1.0694 - categorical_accuracy: 0.5972\n",
      "Epoch 19/300\n",
      "3/3 [==============================] - 0s 40ms/step - loss: 1.0576 - categorical_accuracy: 0.5139\n",
      "Epoch 20/300\n",
      "3/3 [==============================] - 0s 45ms/step - loss: 1.1762 - categorical_accuracy: 0.4722\n",
      "Epoch 21/300\n",
      "3/3 [==============================] - 0s 43ms/step - loss: 1.1883 - categorical_accuracy: 0.4722\n",
      "Epoch 22/300\n",
      "3/3 [==============================] - 0s 44ms/step - loss: 1.1366 - categorical_accuracy: 0.5139\n",
      "Epoch 23/300\n",
      "3/3 [==============================] - 0s 45ms/step - loss: 1.0050 - categorical_accuracy: 0.5694\n",
      "Epoch 24/300\n",
      "3/3 [==============================] - 0s 46ms/step - loss: 1.0993 - categorical_accuracy: 0.5833\n",
      "Epoch 25/300\n",
      "3/3 [==============================] - 0s 45ms/step - loss: 0.9874 - categorical_accuracy: 0.4444\n",
      "Epoch 26/300\n",
      "3/3 [==============================] - 0s 43ms/step - loss: 1.0090 - categorical_accuracy: 0.4306\n",
      "Epoch 27/300\n",
      "3/3 [==============================] - 0s 42ms/step - loss: 0.9110 - categorical_accuracy: 0.5278\n",
      "Epoch 28/300\n",
      "3/3 [==============================] - 0s 45ms/step - loss: 0.8537 - categorical_accuracy: 0.6944\n",
      "Epoch 29/300\n",
      "3/3 [==============================] - 0s 46ms/step - loss: 0.8385 - categorical_accuracy: 0.5972\n",
      "Epoch 30/300\n",
      "3/3 [==============================] - 0s 51ms/step - loss: 0.7851 - categorical_accuracy: 0.5139\n",
      "Epoch 31/300\n",
      "3/3 [==============================] - 0s 52ms/step - loss: 0.7767 - categorical_accuracy: 0.5833\n",
      "Epoch 32/300\n",
      "3/3 [==============================] - 0s 43ms/step - loss: 0.6633 - categorical_accuracy: 0.7222\n",
      "Epoch 33/300\n",
      "3/3 [==============================] - 0s 48ms/step - loss: 0.6615 - categorical_accuracy: 0.7778\n",
      "Epoch 34/300\n",
      "3/3 [==============================] - 0s 41ms/step - loss: 1.4157 - categorical_accuracy: 0.5417\n",
      "Epoch 35/300\n",
      "3/3 [==============================] - 0s 41ms/step - loss: 1.0234 - categorical_accuracy: 0.5278\n",
      "Epoch 36/300\n",
      "3/3 [==============================] - 0s 44ms/step - loss: 1.0284 - categorical_accuracy: 0.5556\n",
      "Epoch 37/300\n",
      "3/3 [==============================] - 0s 52ms/step - loss: 1.0631 - categorical_accuracy: 0.5556\n",
      "Epoch 38/300\n",
      "3/3 [==============================] - 0s 54ms/step - loss: 1.0287 - categorical_accuracy: 0.5556\n",
      "Epoch 39/300\n",
      "3/3 [==============================] - 0s 53ms/step - loss: 0.9833 - categorical_accuracy: 0.5556\n",
      "Epoch 40/300\n",
      "3/3 [==============================] - 0s 49ms/step - loss: 0.9694 - categorical_accuracy: 0.5417\n",
      "Epoch 41/300\n",
      "3/3 [==============================] - 0s 56ms/step - loss: 0.9620 - categorical_accuracy: 0.5417\n",
      "Epoch 42/300\n",
      "3/3 [==============================] - 0s 54ms/step - loss: 0.9462 - categorical_accuracy: 0.5417\n",
      "Epoch 43/300\n",
      "3/3 [==============================] - 0s 51ms/step - loss: 0.9163 - categorical_accuracy: 0.5556\n",
      "Epoch 44/300\n",
      "3/3 [==============================] - 0s 55ms/step - loss: 0.8879 - categorical_accuracy: 0.5556\n",
      "Epoch 45/300\n",
      "3/3 [==============================] - 0s 49ms/step - loss: 0.8476 - categorical_accuracy: 0.5556\n",
      "Epoch 46/300\n",
      "3/3 [==============================] - 0s 49ms/step - loss: 0.8924 - categorical_accuracy: 0.5556\n",
      "Epoch 47/300\n",
      "3/3 [==============================] - 0s 61ms/step - loss: 0.8565 - categorical_accuracy: 0.5417\n",
      "Epoch 48/300\n",
      "3/3 [==============================] - 0s 67ms/step - loss: 0.8330 - categorical_accuracy: 0.5833\n",
      "Epoch 49/300\n",
      "3/3 [==============================] - 0s 64ms/step - loss: 0.8586 - categorical_accuracy: 0.5417\n",
      "Epoch 50/300\n",
      "3/3 [==============================] - 0s 67ms/step - loss: 0.8046 - categorical_accuracy: 0.5972\n",
      "Epoch 51/300\n",
      "3/3 [==============================] - 0s 61ms/step - loss: 0.8043 - categorical_accuracy: 0.6111\n",
      "Epoch 52/300\n",
      "3/3 [==============================] - 0s 52ms/step - loss: 0.7748 - categorical_accuracy: 0.6250\n",
      "Epoch 53/300\n",
      "3/3 [==============================] - 0s 55ms/step - loss: 0.8102 - categorical_accuracy: 0.5417\n",
      "Epoch 54/300\n",
      "3/3 [==============================] - 0s 55ms/step - loss: 0.7418 - categorical_accuracy: 0.6111\n",
      "Epoch 55/300\n",
      "3/3 [==============================] - 0s 52ms/step - loss: 0.7797 - categorical_accuracy: 0.5694\n",
      "Epoch 56/300\n",
      "3/3 [==============================] - 0s 50ms/step - loss: 0.7314 - categorical_accuracy: 0.6528\n",
      "Epoch 57/300\n",
      "3/3 [==============================] - 0s 58ms/step - loss: 0.7318 - categorical_accuracy: 0.5556\n",
      "Epoch 58/300\n",
      "3/3 [==============================] - 0s 57ms/step - loss: 0.6768 - categorical_accuracy: 0.7361\n",
      "Epoch 59/300\n",
      "3/3 [==============================] - 0s 63ms/step - loss: 0.6482 - categorical_accuracy: 0.7639\n",
      "Epoch 60/300\n",
      "3/3 [==============================] - 0s 51ms/step - loss: 0.5175 - categorical_accuracy: 0.7361\n",
      "Epoch 61/300\n",
      "3/3 [==============================] - 0s 48ms/step - loss: 0.4478 - categorical_accuracy: 0.7500\n",
      "Epoch 62/300\n",
      "3/3 [==============================] - 0s 59ms/step - loss: 2.1789 - categorical_accuracy: 0.7778\n",
      "Epoch 63/300\n",
      "3/3 [==============================] - 0s 60ms/step - loss: 2.8917 - categorical_accuracy: 0.3472\n",
      "Epoch 64/300\n",
      "3/3 [==============================] - 0s 57ms/step - loss: 1.1506 - categorical_accuracy: 0.4028\n",
      "Epoch 65/300\n",
      "3/3 [==============================] - 0s 55ms/step - loss: 1.2569 - categorical_accuracy: 0.3472\n",
      "Epoch 66/300\n",
      "3/3 [==============================] - 0s 62ms/step - loss: 1.2906 - categorical_accuracy: 0.3611\n",
      "Epoch 67/300\n",
      "3/3 [==============================] - 0s 55ms/step - loss: 1.3092 - categorical_accuracy: 0.3889\n",
      "Epoch 68/300\n",
      "3/3 [==============================] - 0s 63ms/step - loss: 1.3095 - categorical_accuracy: 0.4444\n",
      "Epoch 69/300\n",
      "3/3 [==============================] - 0s 59ms/step - loss: 1.2924 - categorical_accuracy: 0.5000\n",
      "Epoch 70/300\n",
      "3/3 [==============================] - 0s 60ms/step - loss: 1.2307 - categorical_accuracy: 0.4861\n",
      "Epoch 71/300\n",
      "3/3 [==============================] - 0s 57ms/step - loss: 1.1801 - categorical_accuracy: 0.3056\n",
      "Epoch 72/300\n",
      "3/3 [==============================] - 0s 60ms/step - loss: 1.0589 - categorical_accuracy: 0.5417\n",
      "Epoch 73/300\n",
      "3/3 [==============================] - 0s 52ms/step - loss: 1.0342 - categorical_accuracy: 0.5278\n",
      "Epoch 74/300\n",
      "3/3 [==============================] - 0s 57ms/step - loss: 1.0712 - categorical_accuracy: 0.5417\n",
      "Epoch 75/300\n",
      "3/3 [==============================] - 0s 58ms/step - loss: 0.9949 - categorical_accuracy: 0.5278\n",
      "Epoch 76/300\n",
      "3/3 [==============================] - 0s 52ms/step - loss: 1.2313 - categorical_accuracy: 0.4722\n",
      "Epoch 77/300\n",
      "3/3 [==============================] - 0s 55ms/step - loss: 1.1488 - categorical_accuracy: 0.4306\n",
      "Epoch 78/300\n",
      "3/3 [==============================] - 0s 51ms/step - loss: 1.0304 - categorical_accuracy: 0.5556\n",
      "Epoch 79/300\n",
      "3/3 [==============================] - 0s 58ms/step - loss: 0.9392 - categorical_accuracy: 0.5417\n",
      "Epoch 80/300\n",
      "3/3 [==============================] - 0s 51ms/step - loss: 0.9251 - categorical_accuracy: 0.5556\n",
      "Epoch 81/300\n",
      "3/3 [==============================] - 0s 59ms/step - loss: 0.9214 - categorical_accuracy: 0.5556\n",
      "Epoch 82/300\n",
      "3/3 [==============================] - 0s 49ms/step - loss: 0.9175 - categorical_accuracy: 0.5556\n",
      "Epoch 83/300\n",
      "3/3 [==============================] - 0s 44ms/step - loss: 0.9105 - categorical_accuracy: 0.5556\n",
      "Epoch 84/300\n",
      "3/3 [==============================] - 0s 60ms/step - loss: 0.8996 - categorical_accuracy: 0.5556\n",
      "Epoch 85/300\n",
      "3/3 [==============================] - 0s 53ms/step - loss: 0.8867 - categorical_accuracy: 0.5556\n",
      "Epoch 86/300\n",
      "3/3 [==============================] - 0s 60ms/step - loss: 0.8712 - categorical_accuracy: 0.5556\n",
      "Epoch 87/300\n",
      "3/3 [==============================] - 0s 63ms/step - loss: 0.8450 - categorical_accuracy: 0.5556\n",
      "Epoch 88/300\n",
      "3/3 [==============================] - 0s 57ms/step - loss: 0.8059 - categorical_accuracy: 0.5694\n",
      "Epoch 89/300\n",
      "3/3 [==============================] - 0s 63ms/step - loss: 0.8175 - categorical_accuracy: 0.5000\n",
      "Epoch 90/300\n",
      "3/3 [==============================] - 0s 68ms/step - loss: 0.9009 - categorical_accuracy: 0.4583\n",
      "Epoch 91/300\n",
      "3/3 [==============================] - 0s 70ms/step - loss: 0.8464 - categorical_accuracy: 0.5556\n",
      "Epoch 92/300\n",
      "3/3 [==============================] - 0s 60ms/step - loss: 0.8415 - categorical_accuracy: 0.5556\n",
      "Epoch 93/300\n",
      "3/3 [==============================] - 0s 64ms/step - loss: 0.8442 - categorical_accuracy: 0.5556\n",
      "Epoch 94/300\n",
      "3/3 [==============================] - 0s 58ms/step - loss: 0.8470 - categorical_accuracy: 0.5556\n",
      "Epoch 95/300\n",
      "3/3 [==============================] - 0s 62ms/step - loss: 0.8445 - categorical_accuracy: 0.5556\n",
      "Epoch 96/300\n",
      "3/3 [==============================] - 0s 64ms/step - loss: 0.8297 - categorical_accuracy: 0.5556\n",
      "Epoch 97/300\n",
      "3/3 [==============================] - 0s 64ms/step - loss: 0.8129 - categorical_accuracy: 0.5556\n",
      "Epoch 98/300\n",
      "3/3 [==============================] - 0s 61ms/step - loss: 0.7887 - categorical_accuracy: 0.5556\n",
      "Epoch 99/300\n",
      "3/3 [==============================] - 0s 66ms/step - loss: 0.7552 - categorical_accuracy: 0.5556\n",
      "Epoch 100/300\n",
      "3/3 [==============================] - 0s 72ms/step - loss: 0.6657 - categorical_accuracy: 0.6528\n",
      "Epoch 101/300\n",
      "3/3 [==============================] - 0s 99ms/step - loss: 0.7728 - categorical_accuracy: 0.6528\n",
      "Epoch 102/300\n",
      "3/3 [==============================] - 0s 74ms/step - loss: 0.6529 - categorical_accuracy: 0.7500\n",
      "Epoch 103/300\n",
      "3/3 [==============================] - 0s 70ms/step - loss: 0.7236 - categorical_accuracy: 0.6250\n",
      "Epoch 104/300\n",
      "3/3 [==============================] - 0s 58ms/step - loss: 0.7634 - categorical_accuracy: 0.4722\n",
      "Epoch 105/300\n",
      "3/3 [==============================] - 0s 66ms/step - loss: 0.7191 - categorical_accuracy: 0.5278\n",
      "Epoch 106/300\n",
      "3/3 [==============================] - 0s 63ms/step - loss: 0.6460 - categorical_accuracy: 0.7778\n",
      "Epoch 107/300\n",
      "3/3 [==============================] - 0s 54ms/step - loss: 0.5328 - categorical_accuracy: 0.7639\n",
      "Epoch 108/300\n",
      "3/3 [==============================] - 0s 96ms/step - loss: 0.4653 - categorical_accuracy: 0.7639\n",
      "Epoch 109/300\n",
      "3/3 [==============================] - 0s 60ms/step - loss: 0.9268 - categorical_accuracy: 0.7500\n",
      "Epoch 110/300\n",
      "3/3 [==============================] - 0s 48ms/step - loss: 1.6774 - categorical_accuracy: 0.3333\n",
      "Epoch 111/300\n",
      "3/3 [==============================] - 0s 57ms/step - loss: 1.3589 - categorical_accuracy: 0.3333\n",
      "Epoch 112/300\n",
      "3/3 [==============================] - 0s 63ms/step - loss: 1.2540 - categorical_accuracy: 0.3889\n",
      "Epoch 113/300\n",
      "3/3 [==============================] - 0s 68ms/step - loss: 1.1684 - categorical_accuracy: 0.4306\n",
      "Epoch 114/300\n",
      "3/3 [==============================] - 0s 91ms/step - loss: 1.0832 - categorical_accuracy: 0.4722\n",
      "Epoch 115/300\n",
      "3/3 [==============================] - 0s 62ms/step - loss: 1.0201 - categorical_accuracy: 0.5278\n",
      "Epoch 116/300\n",
      "3/3 [==============================] - 0s 55ms/step - loss: 0.9896 - categorical_accuracy: 0.5556\n",
      "Epoch 117/300\n",
      "3/3 [==============================] - 0s 54ms/step - loss: 0.9717 - categorical_accuracy: 0.5556\n",
      "Epoch 118/300\n",
      "3/3 [==============================] - 0s 52ms/step - loss: 0.9569 - categorical_accuracy: 0.5417\n",
      "Epoch 119/300\n",
      "3/3 [==============================] - 0s 64ms/step - loss: 0.9358 - categorical_accuracy: 0.5417\n",
      "Epoch 120/300\n",
      "3/3 [==============================] - 0s 69ms/step - loss: 0.9172 - categorical_accuracy: 0.5556\n",
      "Epoch 121/300\n",
      "3/3 [==============================] - 0s 49ms/step - loss: 0.9056 - categorical_accuracy: 0.5556\n",
      "Epoch 122/300\n",
      "3/3 [==============================] - 0s 51ms/step - loss: 0.8958 - categorical_accuracy: 0.5556\n",
      "Epoch 123/300\n",
      "3/3 [==============================] - 0s 60ms/step - loss: 0.8904 - categorical_accuracy: 0.5556\n",
      "Epoch 124/300\n",
      "3/3 [==============================] - 0s 58ms/step - loss: 0.8835 - categorical_accuracy: 0.5556\n",
      "Epoch 125/300\n",
      "3/3 [==============================] - 0s 58ms/step - loss: 0.8748 - categorical_accuracy: 0.5556\n",
      "Epoch 126/300\n",
      "3/3 [==============================] - 0s 56ms/step - loss: 0.8656 - categorical_accuracy: 0.5556\n",
      "Epoch 127/300\n",
      "3/3 [==============================] - 0s 65ms/step - loss: 0.8495 - categorical_accuracy: 0.5556\n",
      "Epoch 128/300\n",
      "3/3 [==============================] - 0s 68ms/step - loss: 0.8278 - categorical_accuracy: 0.5417\n",
      "Epoch 129/300\n",
      "3/3 [==============================] - 0s 60ms/step - loss: 0.7890 - categorical_accuracy: 0.5556\n",
      "Epoch 130/300\n",
      "3/3 [==============================] - 0s 60ms/step - loss: 0.7310 - categorical_accuracy: 0.5556\n",
      "Epoch 131/300\n",
      "3/3 [==============================] - 0s 61ms/step - loss: 1.0305 - categorical_accuracy: 0.6667\n",
      "Epoch 132/300\n",
      "3/3 [==============================] - 0s 61ms/step - loss: 0.8244 - categorical_accuracy: 0.7778\n",
      "Epoch 133/300\n",
      "3/3 [==============================] - 0s 64ms/step - loss: 0.8225 - categorical_accuracy: 0.7083\n",
      "Epoch 134/300\n",
      "3/3 [==============================] - 0s 45ms/step - loss: 0.8161 - categorical_accuracy: 0.5556\n",
      "Epoch 135/300\n",
      "3/3 [==============================] - 0s 52ms/step - loss: 0.8202 - categorical_accuracy: 0.5556\n",
      "Epoch 136/300\n",
      "3/3 [==============================] - 0s 60ms/step - loss: 0.8034 - categorical_accuracy: 0.5556\n",
      "Epoch 137/300\n",
      "3/3 [==============================] - 0s 47ms/step - loss: 0.7872 - categorical_accuracy: 0.6667\n",
      "Epoch 138/300\n",
      "3/3 [==============================] - 0s 52ms/step - loss: 0.7787 - categorical_accuracy: 0.7778\n",
      "Epoch 139/300\n",
      "3/3 [==============================] - 0s 49ms/step - loss: 0.7579 - categorical_accuracy: 0.7361\n",
      "Epoch 140/300\n",
      "3/3 [==============================] - 0s 45ms/step - loss: 0.7321 - categorical_accuracy: 0.7917\n",
      "Epoch 141/300\n",
      "3/3 [==============================] - 0s 39ms/step - loss: 0.6993 - categorical_accuracy: 0.8056\n",
      "Epoch 142/300\n",
      "3/3 [==============================] - 0s 40ms/step - loss: 0.6562 - categorical_accuracy: 0.7639\n",
      "Epoch 143/300\n",
      "3/3 [==============================] - 0s 56ms/step - loss: 0.4905 - categorical_accuracy: 0.7917\n",
      "Epoch 144/300\n",
      "3/3 [==============================] - 0s 55ms/step - loss: 0.6733 - categorical_accuracy: 0.6528\n",
      "Epoch 145/300\n",
      "3/3 [==============================] - 0s 53ms/step - loss: 221.0525 - categorical_accuracy: 0.6806\n",
      "Epoch 146/300\n",
      "3/3 [==============================] - 0s 67ms/step - loss: 4.7698 - categorical_accuracy: 0.3472\n",
      "Epoch 147/300\n"
     ]
    },
    {
     "name": "stdout",
     "output_type": "stream",
     "text": [
      "3/3 [==============================] - 0s 59ms/step - loss: 4.6894 - categorical_accuracy: 0.3889\n",
      "Epoch 148/300\n",
      "3/3 [==============================] - 0s 63ms/step - loss: 1.4687 - categorical_accuracy: 0.4028\n",
      "Epoch 149/300\n",
      "3/3 [==============================] - 0s 66ms/step - loss: 1.8194 - categorical_accuracy: 0.4444\n",
      "Epoch 150/300\n",
      "3/3 [==============================] - 0s 57ms/step - loss: 0.8361 - categorical_accuracy: 0.6528\n",
      "Epoch 151/300\n",
      "3/3 [==============================] - 0s 61ms/step - loss: 0.8651 - categorical_accuracy: 0.6667\n",
      "Epoch 152/300\n",
      "3/3 [==============================] - 0s 77ms/step - loss: 0.8771 - categorical_accuracy: 0.4861\n",
      "Epoch 153/300\n",
      "3/3 [==============================] - 0s 48ms/step - loss: 0.8689 - categorical_accuracy: 0.5278\n",
      "Epoch 154/300\n",
      "3/3 [==============================] - 0s 74ms/step - loss: 0.8581 - categorical_accuracy: 0.6806\n",
      "Epoch 155/300\n",
      "3/3 [==============================] - 0s 50ms/step - loss: 0.8525 - categorical_accuracy: 0.6806\n",
      "Epoch 156/300\n",
      "3/3 [==============================] - 0s 51ms/step - loss: 0.8489 - categorical_accuracy: 0.6528\n",
      "Epoch 157/300\n",
      "3/3 [==============================] - 0s 53ms/step - loss: 0.8425 - categorical_accuracy: 0.6389\n",
      "Epoch 158/300\n",
      "3/3 [==============================] - 0s 43ms/step - loss: 0.8388 - categorical_accuracy: 0.6389\n",
      "Epoch 159/300\n",
      "3/3 [==============================] - 0s 65ms/step - loss: 0.8327 - categorical_accuracy: 0.5833\n",
      "Epoch 160/300\n",
      "3/3 [==============================] - 0s 44ms/step - loss: 0.8240 - categorical_accuracy: 0.6111\n",
      "Epoch 161/300\n",
      "3/3 [==============================] - 0s 78ms/step - loss: 0.8148 - categorical_accuracy: 0.6111\n",
      "Epoch 162/300\n",
      "3/3 [==============================] - 0s 55ms/step - loss: 0.8103 - categorical_accuracy: 0.5833\n",
      "Epoch 163/300\n",
      "3/3 [==============================] - 0s 50ms/step - loss: 0.7893 - categorical_accuracy: 0.5833\n",
      "Epoch 164/300\n",
      "3/3 [==============================] - 0s 43ms/step - loss: 0.7719 - categorical_accuracy: 0.6806\n",
      "Epoch 165/300\n",
      "3/3 [==============================] - 0s 45ms/step - loss: 0.7967 - categorical_accuracy: 0.6944\n",
      "Epoch 166/300\n",
      "3/3 [==============================] - 0s 41ms/step - loss: 0.8436 - categorical_accuracy: 0.6250\n",
      "Epoch 167/300\n",
      "3/3 [==============================] - 0s 53ms/step - loss: 0.8587 - categorical_accuracy: 0.4722\n",
      "Epoch 168/300\n",
      "3/3 [==============================] - 0s 67ms/step - loss: 0.8659 - categorical_accuracy: 0.4722\n",
      "Epoch 169/300\n",
      "3/3 [==============================] - 0s 69ms/step - loss: 0.8466 - categorical_accuracy: 0.4861\n",
      "Epoch 170/300\n",
      "3/3 [==============================] - 0s 81ms/step - loss: 0.8167 - categorical_accuracy: 0.6528\n",
      "Epoch 171/300\n",
      "3/3 [==============================] - 0s 68ms/step - loss: 0.8143 - categorical_accuracy: 0.7083\n",
      "Epoch 172/300\n",
      "3/3 [==============================] - 0s 66ms/step - loss: 0.7990 - categorical_accuracy: 0.6944\n",
      "Epoch 173/300\n",
      "3/3 [==============================] - 0s 60ms/step - loss: 0.8059 - categorical_accuracy: 0.7222\n",
      "Epoch 174/300\n",
      "3/3 [==============================] - 0s 51ms/step - loss: 0.8061 - categorical_accuracy: 0.7083\n",
      "Epoch 175/300\n",
      "3/3 [==============================] - 0s 59ms/step - loss: 0.8005 - categorical_accuracy: 0.6806\n",
      "Epoch 176/300\n",
      "3/3 [==============================] - 0s 50ms/step - loss: 0.7924 - categorical_accuracy: 0.6528\n",
      "Epoch 177/300\n",
      "3/3 [==============================] - 0s 50ms/step - loss: 0.7859 - categorical_accuracy: 0.5972\n",
      "Epoch 178/300\n",
      "3/3 [==============================] - 0s 44ms/step - loss: 0.7806 - categorical_accuracy: 0.5694\n",
      "Epoch 179/300\n",
      "3/3 [==============================] - 0s 41ms/step - loss: 0.7796 - categorical_accuracy: 0.5694\n",
      "Epoch 180/300\n",
      "3/3 [==============================] - 0s 62ms/step - loss: 0.7705 - categorical_accuracy: 0.5833\n",
      "Epoch 181/300\n",
      "3/3 [==============================] - 0s 69ms/step - loss: 0.7564 - categorical_accuracy: 0.6250\n",
      "Epoch 182/300\n",
      "3/3 [==============================] - 0s 69ms/step - loss: 0.7425 - categorical_accuracy: 0.6806\n",
      "Epoch 183/300\n",
      "3/3 [==============================] - 0s 62ms/step - loss: 0.7278 - categorical_accuracy: 0.7083\n",
      "Epoch 184/300\n",
      "3/3 [==============================] - 0s 80ms/step - loss: 0.7083 - categorical_accuracy: 0.6944\n",
      "Epoch 185/300\n",
      "3/3 [==============================] - 0s 72ms/step - loss: 0.6868 - categorical_accuracy: 0.7500\n",
      "Epoch 186/300\n",
      "3/3 [==============================] - 0s 46ms/step - loss: 0.6537 - categorical_accuracy: 0.7361\n",
      "Epoch 187/300\n",
      "3/3 [==============================] - 0s 47ms/step - loss: 0.6293 - categorical_accuracy: 0.7361\n",
      "Epoch 188/300\n",
      "3/3 [==============================] - 0s 50ms/step - loss: 0.5769 - categorical_accuracy: 0.7361\n",
      "Epoch 189/300\n",
      "3/3 [==============================] - 0s 47ms/step - loss: 0.5691 - categorical_accuracy: 0.7222\n",
      "Epoch 190/300\n",
      "3/3 [==============================] - 0s 51ms/step - loss: 0.5805 - categorical_accuracy: 0.7222\n",
      "Epoch 191/300\n",
      "3/3 [==============================] - 0s 54ms/step - loss: 0.4800 - categorical_accuracy: 0.7778\n",
      "Epoch 192/300\n",
      "3/3 [==============================] - 0s 60ms/step - loss: 6.0627 - categorical_accuracy: 0.5972\n",
      "Epoch 193/300\n",
      "3/3 [==============================] - 0s 46ms/step - loss: 1.3244 - categorical_accuracy: 0.3889\n",
      "Epoch 194/300\n",
      "3/3 [==============================] - 0s 46ms/step - loss: 1.4764 - categorical_accuracy: 0.2639\n",
      "Epoch 195/300\n",
      "3/3 [==============================] - 0s 54ms/step - loss: 1.4535 - categorical_accuracy: 0.2500\n",
      "Epoch 196/300\n",
      "3/3 [==============================] - 0s 39ms/step - loss: 1.3973 - categorical_accuracy: 0.2639\n",
      "Epoch 197/300\n",
      "3/3 [==============================] - 0s 40ms/step - loss: 1.2291 - categorical_accuracy: 0.2778\n",
      "Epoch 198/300\n",
      "3/3 [==============================] - 0s 55ms/step - loss: 1.0550 - categorical_accuracy: 0.5139\n",
      "Epoch 199/300\n",
      "3/3 [==============================] - 0s 58ms/step - loss: 0.9681 - categorical_accuracy: 0.5278\n",
      "Epoch 200/300\n",
      "3/3 [==============================] - 0s 57ms/step - loss: 0.9530 - categorical_accuracy: 0.6111\n",
      "Epoch 201/300\n",
      "3/3 [==============================] - 0s 55ms/step - loss: 0.9390 - categorical_accuracy: 0.5972\n",
      "Epoch 202/300\n",
      "3/3 [==============================] - 0s 62ms/step - loss: 0.9079 - categorical_accuracy: 0.5694\n",
      "Epoch 203/300\n",
      "3/3 [==============================] - 0s 53ms/step - loss: 0.8871 - categorical_accuracy: 0.5833\n",
      "Epoch 204/300\n",
      "3/3 [==============================] - 0s 51ms/step - loss: 0.8727 - categorical_accuracy: 0.5556\n",
      "Epoch 205/300\n",
      "3/3 [==============================] - 0s 54ms/step - loss: 0.8681 - categorical_accuracy: 0.5556\n",
      "Epoch 206/300\n",
      "3/3 [==============================] - 0s 60ms/step - loss: 0.8647 - categorical_accuracy: 0.5556\n",
      "Epoch 207/300\n",
      "3/3 [==============================] - 0s 63ms/step - loss: 0.8564 - categorical_accuracy: 0.5694\n",
      "Epoch 208/300\n",
      "3/3 [==============================] - 0s 56ms/step - loss: 0.8477 - categorical_accuracy: 0.5694\n",
      "Epoch 209/300\n",
      "3/3 [==============================] - 0s 80ms/step - loss: 0.8418 - categorical_accuracy: 0.5833\n",
      "Epoch 210/300\n",
      "3/3 [==============================] - 0s 63ms/step - loss: 0.8379 - categorical_accuracy: 0.6111\n",
      "Epoch 211/300\n",
      "3/3 [==============================] - 0s 66ms/step - loss: 0.8350 - categorical_accuracy: 0.6389\n",
      "Epoch 212/300\n",
      "3/3 [==============================] - 0s 74ms/step - loss: 0.8323 - categorical_accuracy: 0.6528\n",
      "Epoch 213/300\n",
      "3/3 [==============================] - 0s 59ms/step - loss: 0.8279 - categorical_accuracy: 0.6528\n",
      "Epoch 214/300\n",
      "3/3 [==============================] - 0s 55ms/step - loss: 0.8221 - categorical_accuracy: 0.6528\n",
      "Epoch 215/300\n",
      "3/3 [==============================] - 0s 80ms/step - loss: 0.8155 - categorical_accuracy: 0.6111\n",
      "Epoch 216/300\n",
      "3/3 [==============================] - 0s 60ms/step - loss: 0.8098 - categorical_accuracy: 0.5972\n",
      "Epoch 217/300\n",
      "3/3 [==============================] - 0s 73ms/step - loss: 0.8092 - categorical_accuracy: 0.5833\n",
      "Epoch 218/300\n",
      "3/3 [==============================] - 0s 77ms/step - loss: 0.7973 - categorical_accuracy: 0.6111\n",
      "Epoch 219/300\n",
      "3/3 [==============================] - 0s 68ms/step - loss: 0.7877 - categorical_accuracy: 0.6389\n",
      "Epoch 220/300\n",
      "3/3 [==============================] - 0s 89ms/step - loss: 0.7822 - categorical_accuracy: 0.6667\n",
      "Epoch 221/300\n",
      "3/3 [==============================] - 0s 90ms/step - loss: 0.7685 - categorical_accuracy: 0.6667\n",
      "Epoch 222/300\n",
      "3/3 [==============================] - 0s 67ms/step - loss: 0.7465 - categorical_accuracy: 0.6389\n",
      "Epoch 223/300\n",
      "3/3 [==============================] - 0s 81ms/step - loss: 0.7698 - categorical_accuracy: 0.6250\n",
      "Epoch 224/300\n",
      "3/3 [==============================] - 0s 77ms/step - loss: 0.7367 - categorical_accuracy: 0.6944\n",
      "Epoch 225/300\n",
      "3/3 [==============================] - 0s 60ms/step - loss: 0.7196 - categorical_accuracy: 0.7222\n",
      "Epoch 226/300\n",
      "3/3 [==============================] - 0s 66ms/step - loss: 0.7216 - categorical_accuracy: 0.6944\n",
      "Epoch 227/300\n",
      "3/3 [==============================] - 0s 50ms/step - loss: 0.7554 - categorical_accuracy: 0.6528\n",
      "Epoch 228/300\n",
      "3/3 [==============================] - 0s 58ms/step - loss: 0.7610 - categorical_accuracy: 0.6389\n",
      "Epoch 229/300\n",
      "3/3 [==============================] - 0s 50ms/step - loss: 0.7748 - categorical_accuracy: 0.6389\n",
      "Epoch 230/300\n",
      "3/3 [==============================] - 0s 66ms/step - loss: 0.7082 - categorical_accuracy: 0.6806\n",
      "Epoch 231/300\n",
      "3/3 [==============================] - 0s 70ms/step - loss: 0.7157 - categorical_accuracy: 0.7083\n",
      "Epoch 232/300\n",
      "3/3 [==============================] - 0s 77ms/step - loss: 0.6984 - categorical_accuracy: 0.6944\n",
      "Epoch 233/300\n",
      "3/3 [==============================] - 0s 81ms/step - loss: 0.7017 - categorical_accuracy: 0.6667\n",
      "Epoch 234/300\n",
      "3/3 [==============================] - 0s 64ms/step - loss: 0.6881 - categorical_accuracy: 0.6667\n",
      "Epoch 235/300\n",
      "3/3 [==============================] - 0s 60ms/step - loss: 0.6530 - categorical_accuracy: 0.7083\n",
      "Epoch 236/300\n",
      "3/3 [==============================] - 0s 78ms/step - loss: 0.6339 - categorical_accuracy: 0.7083\n",
      "Epoch 237/300\n",
      "3/3 [==============================] - 0s 78ms/step - loss: 0.6083 - categorical_accuracy: 0.7083\n",
      "Epoch 238/300\n",
      "3/3 [==============================] - 0s 74ms/step - loss: 0.5704 - categorical_accuracy: 0.7361\n",
      "Epoch 239/300\n",
      "3/3 [==============================] - 0s 66ms/step - loss: 0.5731 - categorical_accuracy: 0.7222\n",
      "Epoch 240/300\n",
      "3/3 [==============================] - 0s 47ms/step - loss: 0.6463 - categorical_accuracy: 0.6944\n",
      "Epoch 241/300\n",
      "3/3 [==============================] - 0s 63ms/step - loss: 0.6303 - categorical_accuracy: 0.6806\n",
      "Epoch 242/300\n",
      "3/3 [==============================] - 0s 56ms/step - loss: 0.6998 - categorical_accuracy: 0.5972\n",
      "Epoch 243/300\n",
      "3/3 [==============================] - 0s 67ms/step - loss: 0.6040 - categorical_accuracy: 0.7778\n",
      "Epoch 244/300\n",
      "3/3 [==============================] - 0s 56ms/step - loss: 0.6394 - categorical_accuracy: 0.6944\n",
      "Epoch 245/300\n",
      "3/3 [==============================] - 0s 56ms/step - loss: 0.5991 - categorical_accuracy: 0.7500\n",
      "Epoch 246/300\n",
      "3/3 [==============================] - 0s 46ms/step - loss: 0.5999 - categorical_accuracy: 0.7361\n",
      "Epoch 247/300\n",
      "3/3 [==============================] - 0s 47ms/step - loss: 0.5874 - categorical_accuracy: 0.7222\n",
      "Epoch 248/300\n",
      "3/3 [==============================] - 0s 61ms/step - loss: 0.5517 - categorical_accuracy: 0.7917\n",
      "Epoch 249/300\n",
      "3/3 [==============================] - 0s 52ms/step - loss: 0.5435 - categorical_accuracy: 0.7639\n",
      "Epoch 250/300\n",
      "3/3 [==============================] - 0s 51ms/step - loss: 0.5776 - categorical_accuracy: 0.7500\n",
      "Epoch 251/300\n",
      "3/3 [==============================] - 0s 54ms/step - loss: 0.6093 - categorical_accuracy: 0.7222\n",
      "Epoch 252/300\n",
      "3/3 [==============================] - 0s 51ms/step - loss: 0.5650 - categorical_accuracy: 0.7778\n",
      "Epoch 253/300\n",
      "3/3 [==============================] - 0s 63ms/step - loss: 0.4900 - categorical_accuracy: 0.7778\n",
      "Epoch 254/300\n",
      "3/3 [==============================] - 0s 57ms/step - loss: 0.5091 - categorical_accuracy: 0.7639\n",
      "Epoch 255/300\n",
      "3/3 [==============================] - 0s 47ms/step - loss: 0.5205 - categorical_accuracy: 0.7500\n",
      "Epoch 256/300\n",
      "3/3 [==============================] - 0s 44ms/step - loss: 0.4627 - categorical_accuracy: 0.7778\n",
      "Epoch 257/300\n",
      "3/3 [==============================] - 0s 47ms/step - loss: 0.4289 - categorical_accuracy: 0.8056\n",
      "Epoch 258/300\n",
      "3/3 [==============================] - 0s 53ms/step - loss: 0.4109 - categorical_accuracy: 0.7917\n",
      "Epoch 259/300\n",
      "3/3 [==============================] - 0s 47ms/step - loss: 0.5433 - categorical_accuracy: 0.7361\n",
      "Epoch 260/300\n",
      "3/3 [==============================] - 0s 57ms/step - loss: 0.3765 - categorical_accuracy: 0.8056\n",
      "Epoch 261/300\n",
      "3/3 [==============================] - 0s 64ms/step - loss: 0.3907 - categorical_accuracy: 0.8056\n",
      "Epoch 262/300\n",
      "3/3 [==============================] - 0s 71ms/step - loss: 0.3490 - categorical_accuracy: 0.8056\n",
      "Epoch 263/300\n",
      "3/3 [==============================] - 0s 73ms/step - loss: 0.4177 - categorical_accuracy: 0.7917\n",
      "Epoch 264/300\n",
      "3/3 [==============================] - 0s 89ms/step - loss: 0.3405 - categorical_accuracy: 0.8750\n",
      "Epoch 265/300\n",
      "3/3 [==============================] - 0s 90ms/step - loss: 0.4328 - categorical_accuracy: 0.7917\n",
      "Epoch 266/300\n",
      "3/3 [==============================] - 0s 66ms/step - loss: 0.3773 - categorical_accuracy: 0.8472\n",
      "Epoch 267/300\n",
      "3/3 [==============================] - 0s 51ms/step - loss: 0.3897 - categorical_accuracy: 0.7917\n",
      "Epoch 268/300\n",
      "3/3 [==============================] - 0s 45ms/step - loss: 0.4760 - categorical_accuracy: 0.7500\n",
      "Epoch 269/300\n",
      "3/3 [==============================] - 0s 54ms/step - loss: 0.5289 - categorical_accuracy: 0.7500\n",
      "Epoch 270/300\n",
      "3/3 [==============================] - 0s 49ms/step - loss: 0.7360 - categorical_accuracy: 0.6528\n",
      "Epoch 271/300\n",
      "3/3 [==============================] - 0s 45ms/step - loss: 0.4121 - categorical_accuracy: 0.7361\n",
      "Epoch 272/300\n",
      "3/3 [==============================] - 0s 47ms/step - loss: 0.3981 - categorical_accuracy: 0.8611\n",
      "Epoch 273/300\n",
      "3/3 [==============================] - 0s 46ms/step - loss: 0.4593 - categorical_accuracy: 0.8056\n",
      "Epoch 274/300\n",
      "3/3 [==============================] - 0s 59ms/step - loss: 0.5409 - categorical_accuracy: 0.7778\n",
      "Epoch 275/300\n",
      "3/3 [==============================] - 0s 64ms/step - loss: 0.5792 - categorical_accuracy: 0.6667\n",
      "Epoch 276/300\n",
      "3/3 [==============================] - 0s 65ms/step - loss: 0.4354 - categorical_accuracy: 0.8611\n",
      "Epoch 277/300\n",
      "3/3 [==============================] - 0s 61ms/step - loss: 0.5708 - categorical_accuracy: 0.6806\n",
      "Epoch 278/300\n",
      "3/3 [==============================] - 0s 65ms/step - loss: 0.3723 - categorical_accuracy: 0.8611\n",
      "Epoch 279/300\n",
      "3/3 [==============================] - 0s 78ms/step - loss: 0.4044 - categorical_accuracy: 0.8194\n",
      "Epoch 280/300\n",
      "3/3 [==============================] - 0s 86ms/step - loss: 0.3223 - categorical_accuracy: 0.8611\n",
      "Epoch 281/300\n",
      "3/3 [==============================] - 0s 86ms/step - loss: 0.3157 - categorical_accuracy: 0.8611\n",
      "Epoch 282/300\n",
      "3/3 [==============================] - 0s 86ms/step - loss: 0.2968 - categorical_accuracy: 0.8611\n",
      "Epoch 283/300\n",
      "3/3 [==============================] - 0s 61ms/step - loss: 0.2971 - categorical_accuracy: 0.8750\n",
      "Epoch 284/300\n",
      "3/3 [==============================] - 0s 82ms/step - loss: 0.3521 - categorical_accuracy: 0.8194\n",
      "Epoch 285/300\n",
      "3/3 [==============================] - 0s 69ms/step - loss: 0.2674 - categorical_accuracy: 0.8750\n",
      "Epoch 286/300\n",
      "3/3 [==============================] - 0s 73ms/step - loss: 0.2788 - categorical_accuracy: 0.8472\n",
      "Epoch 287/300\n",
      "3/3 [==============================] - 0s 81ms/step - loss: 0.4049 - categorical_accuracy: 0.8333\n",
      "Epoch 288/300\n",
      "3/3 [==============================] - 0s 74ms/step - loss: 0.3968 - categorical_accuracy: 0.8194\n",
      "Epoch 289/300\n",
      "3/3 [==============================] - 0s 49ms/step - loss: 0.2893 - categorical_accuracy: 0.8889\n",
      "Epoch 290/300\n",
      "3/3 [==============================] - 0s 62ms/step - loss: 0.2969 - categorical_accuracy: 0.8472\n",
      "Epoch 291/300\n",
      "3/3 [==============================] - 0s 59ms/step - loss: 0.3106 - categorical_accuracy: 0.8472\n",
      "Epoch 292/300\n",
      "3/3 [==============================] - 0s 55ms/step - loss: 0.2622 - categorical_accuracy: 0.8611\n",
      "Epoch 293/300\n"
     ]
    },
    {
     "name": "stdout",
     "output_type": "stream",
     "text": [
      "3/3 [==============================] - 0s 61ms/step - loss: 0.2411 - categorical_accuracy: 0.8889\n",
      "Epoch 294/300\n",
      "3/3 [==============================] - 0s 66ms/step - loss: 0.2414 - categorical_accuracy: 0.8889\n",
      "Epoch 295/300\n",
      "3/3 [==============================] - 0s 65ms/step - loss: 0.2523 - categorical_accuracy: 0.8750\n",
      "Epoch 296/300\n",
      "3/3 [==============================] - 0s 66ms/step - loss: 0.2057 - categorical_accuracy: 0.9167\n",
      "Epoch 297/300\n",
      "3/3 [==============================] - 0s 74ms/step - loss: 0.2292 - categorical_accuracy: 0.9028\n",
      "Epoch 298/300\n",
      "3/3 [==============================] - 0s 66ms/step - loss: 0.3555 - categorical_accuracy: 0.8333\n",
      "Epoch 299/300\n",
      "3/3 [==============================] - 0s 60ms/step - loss: 0.7557 - categorical_accuracy: 0.7639\n",
      "Epoch 300/300\n",
      "3/3 [==============================] - 0s 58ms/step - loss: 0.3089 - categorical_accuracy: 0.8611\n"
     ]
    },
    {
     "data": {
      "text/plain": [
       "<keras.callbacks.History at 0x7fb33963d100>"
      ]
     },
     "execution_count": 23,
     "metadata": {},
     "output_type": "execute_result"
    }
   ],
   "source": [
    "model.fit(X_train, y_train, epochs=300, callbacks=[tb_callback])"
   ]
  },
  {
   "cell_type": "code",
   "execution_count": 24,
   "metadata": {},
   "outputs": [
    {
     "name": "stdout",
     "output_type": "stream",
     "text": [
      "Model: \"sequential\"\n",
      "_________________________________________________________________\n",
      " Layer (type)                Output Shape              Param #   \n",
      "=================================================================\n",
      " lstm (LSTM)                 (None, 30, 64)            50432     \n",
      "                                                                 \n",
      " lstm_1 (LSTM)               (None, 30, 128)           98816     \n",
      "                                                                 \n",
      " lstm_2 (LSTM)               (None, 64)                49408     \n",
      "                                                                 \n",
      " dense (Dense)               (None, 64)                4160      \n",
      "                                                                 \n",
      " dense_1 (Dense)             (None, 32)                2080      \n",
      "                                                                 \n",
      " dense_2 (Dense)             (None, 4)                 132       \n",
      "                                                                 \n",
      "=================================================================\n",
      "Total params: 205,028\n",
      "Trainable params: 205,028\n",
      "Non-trainable params: 0\n",
      "_________________________________________________________________\n"
     ]
    }
   ],
   "source": [
    "model.summary()"
   ]
  },
  {
   "cell_type": "markdown",
   "metadata": {},
   "source": [
    "# 8. Make Predictions"
   ]
  },
  {
   "cell_type": "code",
   "execution_count": null,
   "metadata": {},
   "outputs": [],
   "source": [
    "res = model.predict(X_test)"
   ]
  },
  {
   "cell_type": "code",
   "execution_count": null,
   "metadata": {},
   "outputs": [],
   "source": [
    "actions[np.argmax(res[2])]"
   ]
  },
  {
   "cell_type": "code",
   "execution_count": null,
   "metadata": {},
   "outputs": [],
   "source": [
    "actions[np.argmax(y_test[3])]"
   ]
  },
  {
   "cell_type": "markdown",
   "metadata": {},
   "source": [
    "# 9. Save Weights"
   ]
  },
  {
   "cell_type": "markdown",
   "metadata": {},
   "source": [
    "### Save the weights"
   ]
  },
  {
   "cell_type": "code",
   "execution_count": null,
   "metadata": {},
   "outputs": [],
   "source": [
    "model.save('Actions Databases/action.h5')"
   ]
  },
  {
   "cell_type": "markdown",
   "metadata": {},
   "source": [
    "### Deleate Model"
   ]
  },
  {
   "cell_type": "code",
   "execution_count": null,
   "metadata": {},
   "outputs": [],
   "source": [
    "del model"
   ]
  },
  {
   "cell_type": "markdown",
   "metadata": {},
   "source": [
    "### !! Load the model !!"
   ]
  },
  {
   "cell_type": "code",
   "execution_count": null,
   "metadata": {},
   "outputs": [],
   "source": [
    "model.load_weights('Actions Databases/action.h5')"
   ]
  },
  {
   "cell_type": "markdown",
   "metadata": {},
   "source": [
    "# 10. Evaluation using Confusion Matrix and Accuracy"
   ]
  },
  {
   "cell_type": "code",
   "execution_count": 25,
   "metadata": {},
   "outputs": [],
   "source": [
    "from sklearn.metrics import multilabel_confusion_matrix, accuracy_score"
   ]
  },
  {
   "cell_type": "code",
   "execution_count": 26,
   "metadata": {},
   "outputs": [
    {
     "name": "stdout",
     "output_type": "stream",
     "text": [
      "2/2 [==============================] - 1s 41ms/step\n"
     ]
    }
   ],
   "source": [
    "yhat = model.predict(X_test)"
   ]
  },
  {
   "cell_type": "code",
   "execution_count": 28,
   "metadata": {},
   "outputs": [
    {
     "data": {
      "text/plain": [
       "array([[2.01851532e-01, 4.12050992e-01, 1.66362047e-01, 2.19735458e-01],\n",
       "       [9.16050121e-05, 3.34232391e-06, 9.11101873e-04, 9.98993933e-01],\n",
       "       [5.11700091e-05, 1.40643272e-06, 1.81251569e-04, 9.99766171e-01],\n",
       "       [2.01538116e-01, 4.60421056e-01, 1.54974550e-01, 1.83066338e-01],\n",
       "       [6.94607422e-02, 8.17525327e-01, 6.14703260e-02, 5.15435785e-02],\n",
       "       [1.10468671e-01, 6.84816897e-01, 1.19302437e-01, 8.54119658e-02],\n",
       "       [2.90405287e-13, 5.80548115e-14, 9.99997616e-01, 2.33307105e-06],\n",
       "       [2.14212071e-20, 6.23121618e-21, 1.00000000e+00, 6.64188038e-10],\n",
       "       [6.43710345e-02, 8.42990875e-01, 5.02154976e-02, 4.24226783e-02],\n",
       "       [1.76000074e-01, 5.25843322e-01, 1.28007293e-01, 1.70149297e-01],\n",
       "       [2.45585828e-03, 2.12062546e-03, 9.51019585e-01, 4.44040075e-02],\n",
       "       [1.86017498e-01, 4.77356851e-01, 1.98552772e-01, 1.38072938e-01],\n",
       "       [9.54805985e-02, 7.49435127e-01, 8.19315836e-02, 7.31527433e-02],\n",
       "       [7.84440413e-02, 7.78861165e-01, 8.51775855e-02, 5.75172491e-02],\n",
       "       [2.07928106e-01, 4.51163322e-01, 1.55911237e-01, 1.84997365e-01],\n",
       "       [1.85279325e-01, 3.26080531e-01, 1.08834021e-01, 3.79806072e-01],\n",
       "       [2.00321374e-04, 4.37497656e-05, 8.74929070e-01, 1.24826856e-01],\n",
       "       [6.08353851e-25, 1.43966314e-25, 1.00000000e+00, 4.19392559e-12],\n",
       "       [5.58686331e-02, 8.54512155e-01, 5.21403663e-02, 3.74788754e-02],\n",
       "       [1.59799397e-01, 5.70140421e-01, 1.34152815e-01, 1.35907292e-01],\n",
       "       [3.22123384e-10, 7.32353483e-11, 9.99937296e-01, 6.26467809e-05],\n",
       "       [8.72434676e-02, 7.66965032e-01, 7.95297325e-02, 6.62617609e-02],\n",
       "       [1.71719074e-01, 5.37130117e-01, 1.26132548e-01, 1.65018246e-01],\n",
       "       [1.05812244e-01, 7.36205637e-01, 7.49013945e-02, 8.30807537e-02],\n",
       "       [1.55231744e-01, 3.13111573e-01, 3.45528930e-01, 1.86127797e-01],\n",
       "       [7.32247755e-02, 8.09861422e-01, 6.18981868e-02, 5.50156087e-02],\n",
       "       [1.67591974e-01, 2.54237205e-01, 1.78470254e-01, 3.99700612e-01],\n",
       "       [4.17784564e-02, 4.20439951e-02, 6.44229650e-01, 2.71948010e-01],\n",
       "       [1.92852569e-18, 5.82333497e-19, 1.00000000e+00, 4.81904516e-09],\n",
       "       [1.34971872e-01, 6.29947305e-01, 1.27470165e-01, 1.07610591e-01],\n",
       "       [2.15685830e-01, 3.68683070e-01, 2.01713145e-01, 2.13917986e-01],\n",
       "       [5.92865683e-02, 8.46140802e-01, 5.05448468e-02, 4.40276563e-02],\n",
       "       [1.84771776e-01, 4.34700161e-01, 2.08081245e-01, 1.72446892e-01],\n",
       "       [9.78772150e-05, 5.21867651e-06, 4.52984497e-02, 9.54598427e-01],\n",
       "       [1.76855013e-01, 5.21332085e-01, 1.57568350e-01, 1.44244552e-01],\n",
       "       [2.82728188e-02, 1.46488249e-02, 4.58873451e-01, 4.98204917e-01],\n",
       "       [5.00349104e-02, 5.02160825e-02, 6.00675523e-01, 2.99073488e-01],\n",
       "       [1.79486901e-01, 2.90787429e-01, 1.26327455e-01, 4.03398186e-01],\n",
       "       [7.22493693e-16, 2.78636464e-16, 1.00000000e+00, 5.39896128e-08],\n",
       "       [1.51933342e-01, 1.80143476e-01, 1.17575958e-01, 5.50347209e-01],\n",
       "       [1.27102714e-02, 6.48545474e-03, 6.78315222e-01, 3.02489012e-01],\n",
       "       [1.88922912e-01, 4.84510183e-01, 1.91079915e-01, 1.35487020e-01],\n",
       "       [2.73159473e-17, 6.29249568e-18, 1.00000000e+00, 2.99991214e-08],\n",
       "       [2.74882041e-04, 1.80709667e-05, 4.05199156e-04, 9.99301791e-01],\n",
       "       [2.03976189e-04, 1.31828623e-04, 9.82704580e-01, 1.69596411e-02],\n",
       "       [5.33936433e-02, 5.34235537e-02, 5.75182438e-01, 3.18000287e-01],\n",
       "       [7.39688948e-02, 9.36857313e-02, 5.50144851e-01, 2.82200456e-01],\n",
       "       [1.62913397e-01, 5.46495020e-01, 1.64918631e-01, 1.25672907e-01]],\n",
       "      dtype=float32)"
      ]
     },
     "execution_count": 28,
     "metadata": {},
     "output_type": "execute_result"
    }
   ],
   "source": [
    "yhat"
   ]
  },
  {
   "cell_type": "code",
   "execution_count": 29,
   "metadata": {},
   "outputs": [
    {
     "data": {
      "text/plain": [
       "array([[[ 0.50573695,  0.256134  , -0.16374241, ...,  0.82333291,\n",
       "          0.03644178,  0.99533421],\n",
       "        [ 0.51024157,  0.25656271, -0.19059637, ...,  0.8355701 ,\n",
       "         -0.11533155,  0.99481273],\n",
       "        [ 0.51204926,  0.25653902, -0.20504794, ...,  0.83964396,\n",
       "         -0.08652759,  0.99416417],\n",
       "        ...,\n",
       "        [ 0.51323378,  0.25985882, -0.1819841 , ...,  0.84129071,\n",
       "         -0.1200253 ,  0.97807336],\n",
       "        [ 0.5138737 ,  0.25931451, -0.18307537, ...,  0.84128332,\n",
       "         -0.125076  ,  0.97889453],\n",
       "        [ 0.5141083 ,  0.25857228, -0.18698326, ...,  0.84126085,\n",
       "         -0.12569842,  0.97972888]],\n",
       "\n",
       "       [[ 0.48559442,  0.22580031, -0.26524064, ...,  0.87959713,\n",
       "          0.04692725,  0.95776087],\n",
       "        [ 0.48451823,  0.23219556, -0.21193132, ...,  0.85493106,\n",
       "          0.15112171,  0.9593485 ],\n",
       "        [ 0.48372969,  0.23519351, -0.22106762, ...,  0.85000092,\n",
       "          0.17003702,  0.96154469],\n",
       "        ...,\n",
       "        [ 0.48421264,  0.23620681, -0.19209215, ...,  0.84834325,\n",
       "          0.13863912,  0.97501189],\n",
       "        [ 0.48429769,  0.23631395, -0.18936196, ...,  0.84834331,\n",
       "          0.13587067,  0.97537231],\n",
       "        [ 0.48432726,  0.23596157, -0.19585849, ...,  0.84830135,\n",
       "          0.14054047,  0.97565007]],\n",
       "\n",
       "       [[ 0.4942053 ,  0.25782964, -0.2275515 , ...,  0.83360207,\n",
       "          0.02557472,  0.99356532],\n",
       "        [ 0.49468938,  0.25788575, -0.23453741, ...,  0.83361179,\n",
       "          0.03725545,  0.99376756],\n",
       "        [ 0.49504814,  0.25791785, -0.24002746, ...,  0.83362174,\n",
       "          0.04314431,  0.99395639],\n",
       "        ...,\n",
       "        [ 0.49755007,  0.26055789, -0.22593322, ...,  0.80896139,\n",
       "          0.24696378,  0.98794323],\n",
       "        [ 0.49833125,  0.26132277, -0.22569863, ...,  0.80930972,\n",
       "          0.24327381,  0.98774123],\n",
       "        [ 0.4997116 ,  0.26230761, -0.21877472, ...,  0.8085162 ,\n",
       "          0.24480212,  0.98738831]],\n",
       "\n",
       "       ...,\n",
       "\n",
       "       [[ 0.51437652,  0.25436211, -0.20007709, ...,  0.86419332,\n",
       "         -0.07305485,  0.98925656],\n",
       "        [ 0.51404822,  0.25979701, -0.15846649, ...,  0.85573435,\n",
       "         -0.11086589,  0.9869346 ],\n",
       "        [ 0.51298243,  0.26159737, -0.16055314, ...,  0.85520011,\n",
       "         -0.11660358,  0.98423469],\n",
       "        ...,\n",
       "        [ 0.51068509,  0.25591296, -0.16217163, ...,  0.85086274,\n",
       "         -0.05561621,  0.95979989],\n",
       "        [ 0.51075613,  0.25602081, -0.14669232, ...,  0.85065836,\n",
       "         -0.05759915,  0.95888472],\n",
       "        [ 0.51106197,  0.25632834, -0.14287969, ...,  0.85065788,\n",
       "         -0.05036139,  0.95761532]],\n",
       "\n",
       "       [[ 0.50541294,  0.24867791, -0.19361246, ...,  0.87076211,\n",
       "         -0.12226287,  0.98797846],\n",
       "        [ 0.51041567,  0.26516655, -0.11866678, ...,  0.86258572,\n",
       "         -0.04850107,  0.98279589],\n",
       "        [ 0.5131613 ,  0.26865956, -0.1133338 , ...,  0.85915047,\n",
       "         -0.06128513,  0.97953314],\n",
       "        ...,\n",
       "        [ 0.50089294,  0.2527805 , -0.18167542, ...,  0.85701185,\n",
       "         -0.06952225,  0.95021552],\n",
       "        [ 0.5002479 ,  0.25110409, -0.18189999, ...,  0.85694206,\n",
       "         -0.07139076,  0.95034754],\n",
       "        [ 0.50017655,  0.24975796, -0.1857564 , ...,  0.85697097,\n",
       "         -0.08278038,  0.95088983]],\n",
       "\n",
       "       [[ 0.48968109,  0.24930914, -0.15166128, ...,  0.81255668,\n",
       "          0.28899124,  0.97275531],\n",
       "        [ 0.50935733,  0.24934347, -0.16510697, ...,  0.84257931,\n",
       "         -0.08403818,  0.97470087],\n",
       "        [ 0.51157385,  0.25056916, -0.15040262, ...,  0.84434134,\n",
       "         -0.0701954 ,  0.9757297 ],\n",
       "        ...,\n",
       "        [ 0.52223265,  0.26308438, -0.11694064, ...,  0.84507072,\n",
       "         -0.03039223,  0.98146141],\n",
       "        [ 0.52193338,  0.26359293, -0.11183165, ...,  0.8447752 ,\n",
       "         -0.03137765,  0.9814837 ],\n",
       "        [ 0.52174073,  0.26382694, -0.11566019, ...,  0.8443889 ,\n",
       "         -0.01576051,  0.98126787]]])"
      ]
     },
     "execution_count": 29,
     "metadata": {},
     "output_type": "execute_result"
    }
   ],
   "source": [
    "X_test"
   ]
  },
  {
   "cell_type": "code",
   "execution_count": null,
   "metadata": {},
   "outputs": [],
   "source": [
    "y_test"
   ]
  },
  {
   "cell_type": "code",
   "execution_count": 27,
   "metadata": {},
   "outputs": [],
   "source": [
    "ytrue = np.argmax(y_test, axis=1).tolist()\n",
    "yhat = np.argmax(yhat, axis=1).tolist()"
   ]
  },
  {
   "cell_type": "code",
   "execution_count": 28,
   "metadata": {},
   "outputs": [
    {
     "data": {
      "text/plain": [
       "array([[[33,  1],\n",
       "        [11,  3]],\n",
       "\n",
       "       [[23, 11],\n",
       "        [ 5,  9]],\n",
       "\n",
       "       [[35,  0],\n",
       "        [ 1, 12]],\n",
       "\n",
       "       [[36,  5],\n",
       "        [ 0,  7]]])"
      ]
     },
     "execution_count": 28,
     "metadata": {},
     "output_type": "execute_result"
    }
   ],
   "source": [
    "multilabel_confusion_matrix(ytrue, yhat)"
   ]
  },
  {
   "cell_type": "code",
   "execution_count": 29,
   "metadata": {},
   "outputs": [
    {
     "data": {
      "text/plain": [
       "0.6458333333333334"
      ]
     },
     "execution_count": 29,
     "metadata": {},
     "output_type": "execute_result"
    }
   ],
   "source": [
    "accuracy_score(ytrue, yhat)"
   ]
  },
  {
   "cell_type": "markdown",
   "metadata": {},
   "source": [
    "# 11. Test in Real Time"
   ]
  },
  {
   "cell_type": "code",
   "execution_count": null,
   "metadata": {},
   "outputs": [],
   "source": [
    "colors = [(245,117,16), (117,245,16), (16,117,245),(45,110,160)]\n",
    "def prob_viz(res, actions, input_frame, colors):\n",
    "    output_frame = input_frame.copy()\n",
    "    for num, prob in enumerate(res):\n",
    "        cv2.rectangle(output_frame, (0,60+num*40), (int(prob*100), 90+num*40), colors[num], -1)\n",
    "        cv2.putText(output_frame, actions[num], (0, 85+num*40), cv2.FONT_HERSHEY_SIMPLEX, 1, (255,255,255), 2, cv2.LINE_AA)\n",
    "        \n",
    "    return output_frame"
   ]
  },
  {
   "cell_type": "code",
   "execution_count": null,
   "metadata": {},
   "outputs": [],
   "source": [
    "sequence.reverse()"
   ]
  },
  {
   "cell_type": "code",
   "execution_count": null,
   "metadata": {},
   "outputs": [],
   "source": [
    "len(sequence)"
   ]
  },
  {
   "cell_type": "code",
   "execution_count": null,
   "metadata": {},
   "outputs": [],
   "source": [
    "sequence.append('def')"
   ]
  },
  {
   "cell_type": "code",
   "execution_count": null,
   "metadata": {},
   "outputs": [],
   "source": [
    "sequence.reverse()"
   ]
  },
  {
   "cell_type": "code",
   "execution_count": null,
   "metadata": {
    "scrolled": true
   },
   "outputs": [],
   "source": [
    "sequence[-30:]"
   ]
  },
  {
   "cell_type": "markdown",
   "metadata": {},
   "source": [
    "### Test\n",
    "1.Importare funzioni **mp_holistic,**draw_styled landmarks,extract_keypoints"
   ]
  },
  {
   "cell_type": "code",
   "execution_count": null,
   "metadata": {},
   "outputs": [],
   "source": [
    "# 1. New detection variables\n",
    "sequence = []\n",
    "sentence = []\n",
    "threshold = 0.8\n",
    "\n",
    "cap = cv2.VideoCapture(0)\n",
    "# Set mediapipe model \n",
    "with mp_holistic.Holistic(min_detection_confidence=0.5, min_tracking_confidence=0.5) as holistic:\n",
    "    while cap.isOpened():\n",
    "\n",
    "        # Read feed\n",
    "        ret, frame = cap.read()\n",
    "\n",
    "        # Make detections\n",
    "        image, results = mediapipe_detection(frame, holistic)\n",
    "        print(results)\n",
    "        \n",
    "        # Draw landmarks  \n",
    "       \n",
    "        draw_styled_landmarks(image, results)\n",
    "        \n",
    "        # 2. Prediction logic\n",
    "        keypoints = extract_keypoints(results)\n",
    "#         sequence.insert(0,keypoints)\n",
    "#         sequence = sequence[:30]\n",
    "        sequence.append(keypoints)\n",
    "        sequence = sequence[-30:]\n",
    "        \n",
    "        if len(sequence) == 0: # first frame of the video \n",
    "            cv2.putText(image, 'STARTING COLLECTION', (120,200),cv2.FONT_HERSHEY_SIMPLEX, 1, (0,255, 0), 4, cv2.LINE_AA) \n",
    "        \n",
    "        if len(sequence) == 30:\n",
    "            res = model.predict(np.expand_dims(sequence, axis=0))[0]\n",
    "            print(actions[np.argmax(res)])\n",
    "            \n",
    "            \n",
    "        #3. Viz logic\n",
    "            if res[np.argmax(res)] > threshold: \n",
    "                if len(sentence) > 0: \n",
    "                    if actions[np.argmax(res)] != sentence[-1]:\n",
    "                        sentence.append(actions[np.argmax(res)])\n",
    "                else:\n",
    "                    sentence.append(actions[np.argmax(res)])\n",
    "\n",
    "            if len(sentence) > 5: \n",
    "                sentence = sentence[-5:]\n",
    "\n",
    "            # Viz probabilities\n",
    "            image = prob_viz(res, actions, image, colors)\n",
    "            \n",
    "        cv2.rectangle(image, (0,0), (640, 40), (245, 117, 16), -1)\n",
    "        cv2.putText(image, ' '.join(sentence), (3,30), \n",
    "                       cv2.FONT_HERSHEY_SIMPLEX, 1, (255, 255, 255), 2, cv2.LINE_AA)\n",
    "        \n",
    "        # Show to screen\n",
    "        cv2.imshow('OpenCV Feed', image)\n",
    "\n",
    "        # Break gracefully\n",
    "        if cv2.waitKey(10) & 0xFF == ord('q'):\n",
    "            break\n",
    "    cap.release()\n",
    "    cv2.destroyAllWindows()"
   ]
  },
  {
   "cell_type": "code",
   "execution_count": null,
   "metadata": {},
   "outputs": [],
   "source": [
    "cap.release()\n",
    "cv2.destroyAllWindows()"
   ]
  },
  {
   "cell_type": "code",
   "execution_count": null,
   "metadata": {},
   "outputs": [],
   "source": [
    "res[np.argmax(res)] > threshold"
   ]
  },
  {
   "cell_type": "code",
   "execution_count": null,
   "metadata": {},
   "outputs": [],
   "source": [
    "(num_sequences,30,1662)"
   ]
  },
  {
   "cell_type": "code",
   "execution_count": null,
   "metadata": {},
   "outputs": [],
   "source": [
    "model.predict(np.expand_dims(X_test[0], axis=0))"
   ]
  }
 ],
 "metadata": {
  "kernelspec": {
   "display_name": "Python 3 (ipykernel)",
   "language": "python",
   "name": "python3"
  },
  "language_info": {
   "codemirror_mode": {
    "name": "ipython",
    "version": 3
   },
   "file_extension": ".py",
   "mimetype": "text/x-python",
   "name": "python",
   "nbconvert_exporter": "python",
   "pygments_lexer": "ipython3",
   "version": "3.9.12"
  }
 },
 "nbformat": 4,
 "nbformat_minor": 2
}
